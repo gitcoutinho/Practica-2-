{
  "nbformat": 4,
  "nbformat_minor": 0,
  "metadata": {
    "kernelspec": {
      "display_name": "Python 3",
      "language": "python",
      "name": "python3"
    },
    "language_info": {
      "codemirror_mode": {
        "name": "ipython",
        "version": 3
      },
      "file_extension": ".py",
      "mimetype": "text/x-python",
      "name": "python",
      "nbconvert_exporter": "python",
      "pygments_lexer": "ipython3",
      "version": "3.8.2"
    },
    "colab": {
      "name": "Copia de funciones_01.ipynb",
      "provenance": [],
      "collapsed_sections": [],
      "toc_visible": true,
      "include_colab_link": true
    }
  },
  "cells": [
    {
      "cell_type": "markdown",
      "metadata": {
        "id": "view-in-github",
        "colab_type": "text"
      },
      "source": [
        "<a href=\"https://colab.research.google.com/github/gitcoutinho/practica-2/blob/master/Copia_de_funciones_01.ipynb\" target=\"_parent\"><img src=\"https://colab.research.google.com/assets/colab-badge.svg\" alt=\"Open In Colab\"/></a>"
      ]
    },
    {
      "cell_type": "markdown",
      "metadata": {
        "id": "e_PfST_IwMsQ",
        "colab_type": "text"
      },
      "source": [
        "# 1. Funciones\n",
        "\n",
        "\n",
        "En esta sección se retoma la el concepto de funciones que son bloques de códigos que están desieñados para hacer un trabajo específico. Una vez que se desea reaizar una tarea que ya ha sido desarrollada dentro de función, simplemente se tiene que mandar a llamar o invocar a la función.\n",
        "\n",
        "En esta sección también se muestra cómo mandar información a una funcion diseñanada para procesar datos y  regresar algún valor o ejecutar algún comando. \n",
        "\n",
        "Finalmente se muestra como almacenar funciones en archivos separados llamandos *módulos* que ayudan a organizar mejor el programa principal."
      ]
    },
    {
      "cell_type": "markdown",
      "metadata": {
        "id": "n4LCe74vwMsS",
        "colab_type": "text"
      },
      "source": [
        "## 1.1. Definiendo una función ##\n",
        "\n",
        "Aquí se muestra un ejemplo de una función llamada $\\verb|greet_user|$ que simplemente imprime en la terminal una saludo"
      ]
    },
    {
      "cell_type": "code",
      "metadata": {
        "id": "DwVgRY5zwMsS",
        "colab_type": "code",
        "colab": {}
      },
      "source": [
        "########################################\n",
        "# CELDA 1 : Definición de una función  #\n",
        "########################################\n",
        "\n",
        "\n",
        "# Esta es la definición de una función\n",
        "def greet_user():\n",
        "    \"\"\"Mostrar un simple saludo.\"\"\"\n",
        "    print(\"Hola!\")\n",
        "\n",
        "\n",
        "# Ya estamos fuera de la función y se mandará a llamar\n",
        "greet_user()"
      ],
      "execution_count": 0,
      "outputs": []
    },
    {
      "cell_type": "markdown",
      "metadata": {
        "id": "V2OvI4q0wMsX",
        "colab_type": "text"
      },
      "source": [
        "En este ejemplo se muestra la estructura más simple de una fucnión . En la línea $\\verb|1|$ se utiliza la palabra reservada $\\verb|def|$ para notificar al intérprete de Python que comienza una función, seguido de $\\verb|def|$ sigue el nombre de la función y después unos parétesis vacíos, estos paréntesis vacíos implican que la fución no recibe ninguna información par poder trabajar, después de los paréntesis van dos puntos, estos indican que el código que sigue a continuación es el cuerpo de la función. Observe que todas las líneas de código pertenecientes a la fución deben de guardar la misma sangría. \n",
        "\n",
        "\n",
        "### 1.1.1 Pasando información a la función\n",
        "\n",
        "La función anterior sólo puede decir Hola, a continuación se muestra una modificación a la función para que ésta pueda mostrar un saludo personalizado."
      ]
    },
    {
      "cell_type": "code",
      "metadata": {
        "id": "W98pXMFUwMsY",
        "colab_type": "code",
        "colab": {}
      },
      "source": [
        "#########################################\n",
        "# CELDA 2 : Paso de info a la función   #\n",
        "#########################################\n",
        "\n",
        "\n",
        "# Esta es la definición de una función \n",
        "def greet_user(username):\n",
        "    \"\"\" Mostrar un saludo personalizado\"\"\"\n",
        "    print(\"Hola \"+username.title()+\"!\")\n",
        "    \n",
        "#Ya estamos fuera de la función y se mandará a llamar\n",
        "greet_user(\"Juan Pérez\")"
      ],
      "execution_count": 0,
      "outputs": []
    },
    {
      "cell_type": "markdown",
      "metadata": {
        "id": "8t9X6vi7wMsb",
        "colab_type": "text"
      },
      "source": [
        "### 1.1.2 Ejercicios\n",
        "\n",
        "#### 1.1.2.1.Mensaje.\n",
        "Escriba una función llamanda $\\verb|display_message()|$ que imprima en la pantalla un mensaje que indique los temas que se han visto hasta el momento.\n",
        "\n",
        "#### 1.1.2.2 Libro favorito.\n",
        "Escriba una función que se llame $\\verb|libro_favorito()|$ que acepte un parámetro llamado $\\verb|titulo|$ y que despligue en la terminal *Tu libro favorito es (nombre del libro)*"
      ]
    },
    {
      "cell_type": "markdown",
      "metadata": {
        "id": "TthJ1QOgwMsc",
        "colab_type": "text"
      },
      "source": [
        "## 1.2. Paso de argumentos\n",
        "\n",
        "En ocasiones una fución necesita múltiples parámetros, dentro de Python existen diferentes maneras de pasar los argumentos a una función, el uso y la implementación dependerá de la necesidad del usuario y programador.\n"
      ]
    },
    {
      "cell_type": "markdown",
      "metadata": {
        "id": "NQHEAhC9wMsc",
        "colab_type": "text"
      },
      "source": [
        "### 1.2.1 Argumentos Posicionales\n",
        "\n",
        "Ejecute las siguientes celdas y observe los resultados"
      ]
    },
    {
      "cell_type": "code",
      "metadata": {
        "id": "qSKFaOsMwMsd",
        "colab_type": "code",
        "colab": {}
      },
      "source": [
        "#########################################\n",
        "# CELDA 3 : Descripción de mascota      #\n",
        "#########################################\n",
        "\n",
        "\n",
        "def descripcion_mascota(tipo_animal, nombre):\n",
        "    \"\"\"Muestra la información de una mascota.\"\"\"\n",
        "    print(\"\\nTengo un(a) \" + tipo_animal + \" como mascota.\")\n",
        "    print(\"Mi \" + tipo_animal +  \" se llama \" + nombre)"
      ],
      "execution_count": 0,
      "outputs": []
    },
    {
      "cell_type": "code",
      "metadata": {
        "id": "xHPwDjmOwMsg",
        "colab_type": "code",
        "outputId": "29b5bffb-6f29-4487-c7ab-ec735990d741",
        "colab": {
          "base_uri": "https://localhost:8080/",
          "height": 69
        }
      },
      "source": [
        "#########################################\n",
        "# CELDA 4 :                             #\n",
        "#########################################\n",
        "\n",
        "\n",
        "descripcion_mascota(\"perro\",\"Filemon\")"
      ],
      "execution_count": 0,
      "outputs": [
        {
          "output_type": "stream",
          "text": [
            "\n",
            "Tengo un(a) perro como mascota.\n",
            "Mi perro se llama Filemon\n"
          ],
          "name": "stdout"
        }
      ]
    },
    {
      "cell_type": "code",
      "metadata": {
        "id": "k8sp-mGXwMsk",
        "colab_type": "code",
        "outputId": "da39d794-992a-4347-e336-505baa5d28d4",
        "colab": {
          "base_uri": "https://localhost:8080/",
          "height": 69
        }
      },
      "source": [
        "#########################################\n",
        "# CELDA 5 :                             #\n",
        "#########################################\n",
        "\n",
        "\n",
        "descripcion_mascota(\"Michi\",\"gato\")"
      ],
      "execution_count": 0,
      "outputs": [
        {
          "output_type": "stream",
          "text": [
            "\n",
            "Tengo un(a) Michi como mascota.\n",
            "Mi Michi se llama gato\n"
          ],
          "name": "stdout"
        }
      ]
    },
    {
      "cell_type": "markdown",
      "metadata": {
        "id": "ZK8GPw2QwMsn",
        "colab_type": "text"
      },
      "source": [
        "La función se llama $\\verb|descripcion_mascota|$ y se puede observar en su implementación en la *celda 3* observe que recibe dos parámetros que deben de ser de tipo *string*, e imprime la información referente a mascota, en la *celda 4 y 5* se manda a llamar la función y si se observa el resultado de la celda 4 los enunciados muestran coherencia, mientras que en la celda 5 son incoherentes. \n",
        "\n",
        "La diferncia entre las celdas fue el orden de los argumentos, en la celda 4 \"perro\" lo asinga a \"tipo de animal\" y \"Filemon\" lo asigna a nombre, mientras que en la celda 5 \"Michi\" lo asigna \"tipo de animal\", mientras que \"gato\" lo asinga a \"nombre\".\n",
        "\n",
        "A esta forma de mandar los parámetros en los que es de gran importancia el orden en que se mandan los mismos, se le conoce como **Argumentos posicionales**"
      ]
    },
    {
      "cell_type": "markdown",
      "metadata": {
        "id": "IHL8LTQawMso",
        "colab_type": "text"
      },
      "source": [
        "### 1.2.2 Argumentos \"Keyword\"\n",
        "\n",
        "Ejecute la *celda 3* y depués las *celda 6 y 7*"
      ]
    },
    {
      "cell_type": "code",
      "metadata": {
        "id": "DJowdO6WwMsp",
        "colab_type": "code",
        "outputId": "326f209b-1872-4dfe-cc1d-f44f5cff627f",
        "colab": {
          "base_uri": "https://localhost:8080/",
          "height": 69
        }
      },
      "source": [
        "#########################################\n",
        "# CELDA 6 :                             #\n",
        "#########################################\n",
        "\n",
        "\n",
        "descripcion_mascota(tipo_animal = \"hamster\",nombre = \"Harry\")"
      ],
      "execution_count": 0,
      "outputs": [
        {
          "output_type": "stream",
          "text": [
            "\n",
            "Tengo un(a) hamster como mascota.\n",
            "Mi hamster se llama Harry\n"
          ],
          "name": "stdout"
        }
      ]
    },
    {
      "cell_type": "code",
      "metadata": {
        "scrolled": true,
        "id": "alVsaERAwMst",
        "colab_type": "code",
        "outputId": "1b38714b-622b-4e26-b43d-3f8d4c9d5547",
        "colab": {
          "base_uri": "https://localhost:8080/",
          "height": 69
        }
      },
      "source": [
        "#########################################\n",
        "# CELDA 7 :                             #\n",
        "#########################################\n",
        "\n",
        "\n",
        "descripcion_mascota(nombre = \"Cuco\",tipo_animal = \"Hurón\")"
      ],
      "execution_count": 0,
      "outputs": [
        {
          "output_type": "stream",
          "text": [
            "\n",
            "Tengo un(a) Hurón como mascota.\n",
            "Mi Hurón se llama Cuco\n"
          ],
          "name": "stdout"
        }
      ]
    },
    {
      "cell_type": "markdown",
      "metadata": {
        "id": "DFOgWkUgwMsw",
        "colab_type": "text"
      },
      "source": [
        "Observe que ahora el orden de los argumentos no importa, esto se debe a que desde que se manda a llamar la función se hace la asignación a los variables locales de la función. Es de gran importancia que note que la implementación de la función no cambió en nada, los cambios se deben de hacer al momento de llamar la función."
      ]
    },
    {
      "cell_type": "markdown",
      "metadata": {
        "id": "6iklDvx0wMsx",
        "colab_type": "text"
      },
      "source": [
        "## 1.2.3 Valores predeterminados\n",
        "\n",
        "En la definición de las funciones se puede definir valores predeterminados para los parámetros. Si un parámetro se manda desde la llamada de la función Python utiliza el valor que se ha mandado en la invocación de la función y deshecha el predeterminado, sino se ha manda el parámetro desde la llamada de la función entonces se utilizará el valor predeterminado. Observe el código de las celda 8 y ejecute la celda para observar el comportamiento de la misma."
      ]
    },
    {
      "cell_type": "code",
      "metadata": {
        "id": "HcD5wO16wMsz",
        "colab_type": "code",
        "outputId": "9599a2cf-3731-47e8-83cb-15a3750c16ba",
        "colab": {
          "base_uri": "https://localhost:8080/",
          "height": 69
        }
      },
      "source": [
        "#########################################\n",
        "# CELDA 8 : Valores predeterminados     #\n",
        "#########################################\n",
        "def descripcion_mascota(nombre,tipo_animal = \"perro\"):\n",
        "    \"\"\"Muestra la información de una mascota\"\"\"\n",
        "    print(\"\\nUsted tiene un@ \" + tipo_animal +\".\" )\n",
        "    print(\"Mi \" + tipo_animal + \" se llama \" + nombre.title() +\".\")\n",
        "\n",
        "descripcion_mascota(nombre=\"Orejas\")"
      ],
      "execution_count": 0,
      "outputs": [
        {
          "output_type": "stream",
          "text": [
            "\n",
            "Usted tiene un@ perro.\n",
            "Mi perro se llama Orejas.\n"
          ],
          "name": "stdout"
        }
      ]
    },
    {
      "cell_type": "markdown",
      "metadata": {
        "id": "tb2Hq0CRwMs2",
        "colab_type": "text"
      },
      "source": [
        "## 1.3 Ejercicios\n",
        "\n",
        "### 1.3.1 Playera\n",
        "\n",
        "Escriba una función llamanda $\\verb|hacerPlayera()|$ que acepte como argumento, el tamaño y un texto que apararecerá cerigrafeado en la playera. La función deberá imprimir en la terminal algo parecido a lo siguiente\n",
        "\n",
        "*La playera es talla \"Grande\" y el texto a cerigrafear es: \"Hola amigos\"*\n",
        "\n",
        "Para verificar el correcto funcionamiento de la función, genere un programa que la invoque. \n",
        "\n"
      ]
    },
    {
      "cell_type": "code",
      "metadata": {
        "id": "LdpMiOsLwMs3",
        "colab_type": "code",
        "outputId": "b04fc244-8adb-4147-ebe7-793c5bf626de",
        "colab": {
          "base_uri": "https://localhost:8080/",
          "height": 35
        }
      },
      "source": [
        "####  Prgrama de Playeras  ###\n",
        "def hacerPlayera(talla,texto):\n",
        "  print(\"La playera es talla \"+ talla.title()+ \" y el texto sera \"+texto.title()+\".\")\n",
        "\n",
        "hacerPlayera(\"g\",\"hello\")\n",
        "    "
      ],
      "execution_count": 0,
      "outputs": [
        {
          "output_type": "stream",
          "text": [
            "La playera es talla G y el texto sera Hello.\n"
          ],
          "name": "stdout"
        }
      ]
    },
    {
      "cell_type": "markdown",
      "metadata": {
        "id": "Y-45zJchwMs7",
        "colab_type": "text"
      },
      "source": [
        "### 1.3.2 Playeras Grandes\n",
        "\n",
        "Modique la función $\\verb|hacerPlayera()|$ de tal manera que las playeras grandes sean predeterminadas y el texto predefinido para la cerigrafear sea $\\verb|yo <3 Python|$.\n",
        "\n",
        "Para verificar el correcto funcionamiento del módulo:\n",
        "\n",
        "1. Genere una playera grande utlizando el texto predeterminado.\n",
        "\n",
        "2. Genere una playera mediana con el texto predeterminado.\n",
        "\n",
        "3. Genere una playera de talla distnta a grande con un texto distinto al predeterminado.\n",
        "\n",
        "\n"
      ]
    },
    {
      "cell_type": "code",
      "metadata": {
        "id": "vlnz2bH3wMs8",
        "colab_type": "code",
        "outputId": "e6b26017-85b8-4d4f-9049-3849e6056e24",
        "colab": {
          "base_uri": "https://localhost:8080/",
          "height": 69
        }
      },
      "source": [
        "###    Programa de Playeras grandes ###\n",
        "def hacerPlayera(talla=\"grande\",texto=\"yo <3 python\"):\n",
        "  print(\"La playera es talla \"+talla+\" y el texto sera \"+texto.title())\n",
        "hacerPlayera()\n",
        "hacerPlayera(talla=\"mediana\")\n",
        "hacerPlayera(talla=\"chica\",texto=\"adios\")"
      ],
      "execution_count": 0,
      "outputs": [
        {
          "output_type": "stream",
          "text": [
            "La playera es talla grande y el texto sera Yo <3 Python\n",
            "La playera es talla mediana y el texto sera Yo <3 Python\n",
            "La playera es talla chica y el texto sera Adios\n"
          ],
          "name": "stdout"
        }
      ]
    },
    {
      "cell_type": "markdown",
      "metadata": {
        "id": "A-HP5as2wMs_",
        "colab_type": "text"
      },
      "source": [
        "### 1.3.2 Países y ciudades\n",
        "\n",
        "Escriba una función llamada $\\verb|descripcionCiudad()|$ que acepte como argumentos el nombre de una ciudad y el nombre de un país como argumentos y que imprima en la terminal un texto como: *Xalapa está en México*, *Río de Janeiro está en Brazil*, *París está en Fracia*. Ponga como valor predeterminado \"México\" a la variable país, y llame a la función tres veces donde por lo menos una ciudad no pertenezca al país México.\n",
        "\n"
      ]
    },
    {
      "cell_type": "code",
      "metadata": {
        "id": "eYDbu-1NwMtA",
        "colab_type": "code",
        "outputId": "d28b72d5-39a8-40d6-a52c-ce1c0416fea8",
        "colab": {
          "base_uri": "https://localhost:8080/",
          "height": 69
        }
      },
      "source": [
        "def descripcionCiudad(ciudad,pais=\"mexico\"):\n",
        "  print(ciudad.title()+\" esta en \"+pais.title())\n",
        "\n",
        "descripcionCiudad(\"CDMX\")\n",
        "descripcionCiudad(\"guadalajara\")\n",
        "descripcionCiudad(\"rio de janeiro\",\"brazil\")\n"
      ],
      "execution_count": 0,
      "outputs": [
        {
          "output_type": "stream",
          "text": [
            "Cdmx esta en Mexico\n",
            "Guadalajara esta en Mexico\n",
            "Rio De Janeiro esta en Brazil\n"
          ],
          "name": "stdout"
        }
      ]
    },
    {
      "cell_type": "markdown",
      "metadata": {
        "id": "upGjM-auwMtD",
        "colab_type": "text"
      },
      "source": [
        "## 1.4 Valores de regreso\n",
        "\n",
        "## 1.4.1 Introducción.\n",
        "Una función no necesariamente tiene que imprimir texto o mostrar la información que recibe, usualmente, existen funciones que reciben argumentos, los procesan y después regresan al programa principal el o los datos modificados, a éstos datos que la función regresa al programa principal se le conoce como **valor de regreso** o **valor de retorno**, observe el código de la siguiente celda y su comportamiento, en la que se calcula el volumen de un cubo."
      ]
    },
    {
      "cell_type": "code",
      "metadata": {
        "id": "0FFf3My3wMtD",
        "colab_type": "code",
        "outputId": "1b82865c-e13a-4ebc-e44d-7501d4deb38d",
        "colab": {
          "base_uri": "https://localhost:8080/",
          "height": 35
        }
      },
      "source": [
        "def volumenCubo(longitud_lado):\n",
        "    volumen = longitud_lado**3\n",
        "    return volumen\n",
        "\n",
        "print(\"El volumen de un cubo cuyos lados miden 4cm es: \" + str(volumenCubo(4)) + \" cm^3\")\n",
        "\n"
      ],
      "execution_count": 0,
      "outputs": [
        {
          "output_type": "stream",
          "text": [
            "El volumen de un cubo cuyos lados miden 4cm es: 64 cm^3\n"
          ],
          "name": "stdout"
        }
      ]
    },
    {
      "cell_type": "markdown",
      "metadata": {
        "id": "KwP5U-rPwMtH",
        "colab_type": "text"
      },
      "source": [
        "Observe que la función $\\verb|volumenCubo(longitud_lado):|$ recibe como argumento un número y dentro de la función eleva ese valor al cubo y lo asigna a la variable local $\\verb|volumen|$ y regresa el valor guardado en $\\verb|volumen|$"
      ]
    },
    {
      "cell_type": "markdown",
      "metadata": {
        "id": "8MGaa-HowMtI",
        "colab_type": "text"
      },
      "source": [
        "## 1.5 Almacenando Funciones en Módulo\n",
        "\n",
        "Una ventaja de las funciones es que se pueden almacenar en archivos distintos de tal manera que el archivo principal no esté tan extenso y sea más sencillo de dar mantenimiento y poder depurar los errores, en otros lenguajes de programación como en C y C++ es equivalente las ilbrerías creadas por los usuarios.\n",
        "\n",
        "En la siguiente celda se muestra un ejemplo de una librería en la que se calcula el área y perímetro de la cara de un cubo, el área, perímetro y volumen de un cubo. "
      ]
    },
    {
      "cell_type": "markdown",
      "metadata": {
        "id": "7mn2vcnewMtI",
        "colab_type": "raw"
      },
      "source": [
        "####       cubo.py     ####\n",
        "def cara_area(lado):\n",
        "\treturn lado**2\n",
        "\n",
        "def cara_perimetro(lado):\n",
        "\treturn lado*4\n",
        "\n",
        "def perimetro(lado):\n",
        "\treturn lado*12\n",
        "\n",
        "def volumen(lado):\n",
        "\treturn lado**3\n",
        "\n",
        "def area(lado):\n",
        "\treturn cara_area(lado)*6\n"
      ]
    },
    {
      "cell_type": "markdown",
      "metadata": {
        "id": "aADypRLjwMtJ",
        "colab_type": "text"
      },
      "source": [
        "Para agregar una sóla función del módulo que se llama $\\verb|cubo.py|$ sólo basta poner al inicio la siguiente directiva:\n",
        "\n",
        "$\\verb|from cubo import cara_area|$"
      ]
    },
    {
      "cell_type": "code",
      "metadata": {
        "id": "j_wOtfiuwMtJ",
        "colab_type": "code",
        "outputId": "13f53887-41a1-4cb4-e089-292128193302",
        "colab": {}
      },
      "source": [
        "from cubo import cara_area\n",
        "\n",
        "print(\"El área de la cara de un cubo cuyo lado es 2 cm es: \" + str(cara_area(2)))"
      ],
      "execution_count": 0,
      "outputs": [
        {
          "output_type": "stream",
          "text": [
            "El área de la cara de un cubo cuyo lado es 2 cm es: 4\n"
          ],
          "name": "stdout"
        }
      ]
    },
    {
      "cell_type": "markdown",
      "metadata": {
        "id": "8P91XIenwMtN",
        "colab_type": "text"
      },
      "source": [
        "Para agregar todo el módulo, se pueden agregar todas las funciones una por una, sin embargo, si el módulo tiene muchas funciones no resulta muy práctico, para poder agregar todo el módulo se debe de agregar la siguiente directiva\n",
        "\n",
        "$\\verb|from cubo import *|$"
      ]
    },
    {
      "cell_type": "code",
      "metadata": {
        "id": "LJMNCXUswMtP",
        "colab_type": "code",
        "outputId": "50a0b137-da67-4175-ef40-2cd40ee9f53e",
        "colab": {}
      },
      "source": [
        "from cubo import *\n",
        "\n",
        "print(\"El área de la cara de un cubo cuyo lado es 2 cm es: \" + str(cara_area(2)))\n",
        "\n",
        "print(\"El perímetro de la cara de un cubo de lado de 2cm por lado es: \" + str(cara_perimetro(2)))\n",
        "\n",
        "print(\"El perímetro de un cubo cuyos lados miden 3 cm es:  \" + str(perimetro(3)))\n",
        "\n",
        "print(\"El área de un cubo cuyos lados miden 3 cm es: \" + str(area(3)))\n",
        "\n",
        "print(\"El volumen de un cubo cuyos lados miden 3 cm es: \" + str(volumen(3)))"
      ],
      "execution_count": 0,
      "outputs": [
        {
          "output_type": "stream",
          "text": [
            "El área de la cara de un cubo cuyo lado es 2 cm es: 4\n",
            "El perímetro de la cara de un cubo de lado de 2cm por lado es: 8\n",
            "El perímetro de un cubo cuyos lados miden 3 cm es:  36\n",
            "El área de un cubo cuyos lados miden 3 cm es: 54\n",
            "El volumen de un cubo cuyos lados miden 3 cm es: 27\n"
          ],
          "name": "stdout"
        }
      ]
    },
    {
      "cell_type": "markdown",
      "metadata": {
        "id": "1qpjfsYLwMtT",
        "colab_type": "text"
      },
      "source": [
        "## 1.6 Ejercicios\n",
        "\n",
        "1. Hacer un módulo con las funciones básicas para una calculadora, suma, resta, producto y división, en la función de división si el denomidador es igual a cero debe de volver a leer el valor del denominador hasta que sea distinto de cero (se recomienda utilizar el ciclo while y el condicional if)\n",
        "\n",
        "2. Hacer una función que el usuario introduzca un número y la función debe de desplegar un triángulo de sumas, *Como ejemplo, si el usuario manda  a la función 4 debeía imprimir el siguiente arreglo*\n",
        "\n",
        "+\n",
        "\n",
        "++\n",
        "\n",
        "+++\n",
        "\n",
        "++++\n"
      ]
    },
    {
      "cell_type": "code",
      "metadata": {
        "id": "j5eGLGS8wMtT",
        "colab_type": "code",
        "outputId": "fecae9bb-950f-4187-f811-ae594b0f565e",
        "colab": {
          "base_uri": "https://localhost:8080/",
          "height": 87
        }
      },
      "source": [
        "#EJERCICIO OPERACIONES BASICAS\n",
        "from def1 import *\n",
        "suma(2,2)\n",
        "resta(3,9)\n",
        "multiplicacion(3,90)\n",
        "division(20,5)\n",
        "\n",
        "\n"
      ],
      "execution_count": 0,
      "outputs": [
        {
          "output_type": "stream",
          "text": [
            "la suma es  4\n",
            "la resta es  -6\n",
            "la multiplicacion es  270\n",
            "la division es  4.0\n"
          ],
          "name": "stdout"
        }
      ]
    },
    {
      "cell_type": "code",
      "metadata": {
        "id": "kWp14kHUzDa0",
        "colab_type": "code",
        "outputId": "b3c6248d-d342-4ec3-e41c-cb099b5f273d",
        "colab": {
          "base_uri": "https://localhost:8080/",
          "height": 191
        }
      },
      "source": [
        "#EJERCICIO TRIAGULOS\n",
        "\n",
        "def signos(x):\n",
        "  for i in range(0,x,1):\n",
        "    for j in range(0,i+1,1):\n",
        "      print(\"+\",end=\"\")\n",
        "    print(\"\")\n",
        "\n",
        "x=int(input(\"introduce el numero de signos que estaran en la base \"))\n",
        "signos(x)\n",
        "  \n"
      ],
      "execution_count": 0,
      "outputs": [
        {
          "output_type": "stream",
          "text": [
            "introduce el numero de signos que estaran en la base 9\n",
            "+\n",
            "++\n",
            "+++\n",
            "++++\n",
            "+++++\n",
            "++++++\n",
            "+++++++\n",
            "++++++++\n",
            "+++++++++\n"
          ],
          "name": "stdout"
        }
      ]
    }
  ]
}